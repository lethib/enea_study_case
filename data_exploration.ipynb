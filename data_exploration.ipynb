{
 "cells": [
  {
   "cell_type": "markdown",
   "metadata": {},
   "source": [
    "# Study Case\n",
    "\n",
    "The objective of the assignment is to use the following data set to **provide advice to a client of your choosing**. The data set is Crash Stats - Data Extract - Datasets - Victorian Government Data Directory. This is public data was collected on the web and is not related to any work we currently undertake.\n",
    "\n",
    "**We would like you to investigate, analyse it and prepare a presentation.** You may also supplement the analysis with additional data as you see fit, but the core analysis should be focused on the crashes."
   ]
  },
  {
   "cell_type": "markdown",
   "metadata": {},
   "source": [
    "# Data Exploration"
   ]
  },
  {
   "cell_type": "code",
   "execution_count": 1,
   "metadata": {},
   "outputs": [],
   "source": [
    "# Standard imports\n",
    "\n",
    "import matplotlib.pyplot as plt\n",
    "import numpy as np\n",
    "import seaborn as sns\n",
    "import pandas as pd"
   ]
  },
  {
   "cell_type": "code",
   "execution_count": null,
   "metadata": {},
   "outputs": [],
   "source": [
    "# Datasets\n",
    "data_path = 'data/ACCIDENT/'\n",
    "\n",
    "# Accidents dataframes\n",
    "df_ACCIDENT = pd.read_csv(data_path + 'ACCIDENT.csv')\n",
    "df_ACCIDENT_CHAINAGE = pd.read_csv(data_path + 'ACCIDENT_CHAINAGE.csv')\n",
    "df_ACCIDENT_EVENT = pd.read_csv(data_path + 'ACCIDENT_EVENT.csv')\n",
    "df_ACCIDENT_LOCATION = pd.read_csv(data_path + 'ACCIDENT_LOCATION.csv')\n",
    "\n",
    "# Conditions\n",
    "df_WEATHER = pd.read_csv(data_path + 'ATMOSPHERIC_COND.csv')\n",
    "df_ROAD_COND = pd.read_csv(data_path + 'ROAD_SURFACE_COND.csv')\n",
    "\n",
    "# Nodes\n",
    "df_NODE = pd.read_csv(data_path + 'NODE.csv')\n",
    "df_NODE_ID_COMPLEX_INT_ID = pd.read_csv(data_path + 'NODE_ID_COMPLEX_INT_ID.csv')\n",
    "\n",
    "# Person and vehicles\n",
    "df_PERSON = pd.read_csv(data_path + 'PERSON.csv')\n",
    "df_VEHICLE = pd.read_csv(data_path + 'VEHICLE.csv')\n",
    "\n",
    "# Type of accident\n",
    "df_SUBDCA = pd.read_csv(data_path + 'SUBDCA.csv')\n",
    "\n",
    "# Create a dictionnary with all the dataframes\n",
    "dict_df = {\n",
    "    'ACCIDENT': df_ACCIDENT,\n",
    "    'ACCIDENT_CHAINAGE': df_ACCIDENT_CHAINAGE,\n",
    "    'ACCIDENT_EVENT': df_ACCIDENT_EVENT,\n",
    "    'ACCIDENT_LOCATION': df_ACCIDENT_LOCATION,\n",
    "    'WEATHER': df_WEATHER,\n",
    "    'ROAD_COND': df_ROAD_COND,\n",
    "    'NODE': df_NODE,\n",
    "    'NODE_ID_COMPLEX_INT_ID': df_NODE_ID_COMPLEX_INT_ID,\n",
    "    'PERSON': df_PERSON,\n",
    "    'VEHICLE': df_VEHICLE,\n",
    "    'SUBDCA': df_SUBDCA,\n",
    "}"
   ]
  }
 ],
 "metadata": {
  "kernelspec": {
   "display_name": "Python 3.9.6 64-bit",
   "language": "python",
   "name": "python3"
  },
  "language_info": {
   "codemirror_mode": {
    "name": "ipython",
    "version": 3
   },
   "file_extension": ".py",
   "mimetype": "text/x-python",
   "name": "python",
   "nbconvert_exporter": "python",
   "pygments_lexer": "ipython3",
   "version": "3.9.6"
  },
  "orig_nbformat": 4,
  "vscode": {
   "interpreter": {
    "hash": "aee8b7b246df8f9039afb4144a1f6fd8d2ca17a180786b69acc140d282b71a49"
   }
  }
 },
 "nbformat": 4,
 "nbformat_minor": 2
}
